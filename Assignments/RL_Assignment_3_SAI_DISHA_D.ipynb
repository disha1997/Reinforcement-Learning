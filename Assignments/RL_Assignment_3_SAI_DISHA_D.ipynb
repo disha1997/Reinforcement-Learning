{
  "nbformat": 4,
  "nbformat_minor": 0,
  "metadata": {
    "colab": {
      "provenance": []
    },
    "kernelspec": {
      "name": "python3",
      "display_name": "Python 3"
    },
    "language_info": {
      "name": "python"
    }
  },
  "cells": [
    {
      "cell_type": "markdown",
      "source": [
        "\n",
        "```\n",
        "SAI DISHA .D,231057026 number of rows=7,number of columns=9,terminal states=[(1,2)],holes=[(2,4)],dummy states=[(2,3),(3,1),(3,3)]\n",
        "```\n",
        "\n"
      ],
      "metadata": {
        "id": "0B86_EJYKYfO"
      }
    },
    {
      "cell_type": "code",
      "execution_count": 19,
      "metadata": {
        "id": "k4G7j4e-oL6F"
      },
      "outputs": [],
      "source": [
        "import itertools\n",
        "import numpy as np\n",
        "import pandas as pd\n",
        "import matplotlib.pyplot as plt\n",
        "import random"
      ]
    },
    {
      "cell_type": "code",
      "source": [
        "class GridWorldEnv:\n",
        "  def __init__(self, N = 7, M = 9):\n",
        "    # States of a gridworld\n",
        "    self.N = N\n",
        "    self.M = M\n",
        "\n",
        "    # state space\n",
        "    self.observation_space = list(itertools.product(range(self.N), range(self.M)))\n",
        "    # action space\n",
        "    self.action_space = [(0,1), (0,-1), (1,0), (-1,0)]\n",
        "\n",
        "    self.terminal_states = [(1,2)]\n",
        "    self.holes = [(2,4)]\n",
        "    self.dummy_state = [(2,3),(3,1),(3,3)]\n",
        "\n",
        "    self.reset()\n",
        "\n",
        "  def reset(self):\n",
        "    self.state = (0,0)\n",
        "    self.is_terminated = False\n",
        "    self.total_reward = 0\n",
        "\n",
        "  def get_transition_probaility(self, start_state, action, end_state):\n",
        "    if start_state in self.terminal_states:\n",
        "      return 0\n",
        "\n",
        "    if start_state in self.holes:\n",
        "      return 0\n",
        "\n",
        "    expected_state = tuple(np.array(start_state) + np.array(action))\n",
        "    if expected_state == end_state and end_state not in self.dummy_state:\n",
        "      return 1\n",
        "\n",
        "    if expected_state not in self.observation_space and start_state == end_state:\n",
        "      return 1\n",
        "\n",
        "    if expected_state in self.dummy_state and start_state == end_state:\n",
        "      return 1\n",
        "\n",
        "    return 0\n",
        "\n",
        "  def get_reward(self, start_state, action, end_state):\n",
        "    if end_state in self.terminal_states:\n",
        "      return 10\n",
        "    else:\n",
        "      return -1\n",
        "\n",
        "  def step(self, action):\n",
        "    if self.state in self.terminal_states:\n",
        "      self.is_terminated = True\n",
        "      reward = np.nan\n",
        "      return self.state, reward, self.is_terminated\n",
        "\n",
        "    current_state = self.state\n",
        "    max_prob = 0\n",
        "    for possible_state in self.observation_space:\n",
        "      p = self.get_transition_probaility(current_state, action, possible_state)\n",
        "      if p > max_prob:\n",
        "        max_prob = p\n",
        "        next_state = possible_state\n",
        "\n",
        "    reward = self.get_reward(current_state, action, next_state)\n",
        "\n",
        "    self.state = next_state\n",
        "    self.total_reward += reward\n",
        "\n",
        "    return self.state, reward, self.is_terminated\n",
        "\n",
        "\n",
        "class RandomActionAgent:\n",
        "  def __init__(self, env):\n",
        "    self.env = env\n",
        "\n",
        "  def policy(self):\n",
        "    action = random.choices(self.env.action_space)[0]\n",
        "    return\n",
        "\n",
        "  def train(self):\n",
        "    pass"
      ],
      "metadata": {
        "id": "NDed4dkEoorn"
      },
      "execution_count": 20,
      "outputs": []
    },
    {
      "cell_type": "code",
      "source": [
        "env = GridWorldEnv()"
      ],
      "metadata": {
        "id": "kk2wmPXtqp9M"
      },
      "execution_count": 21,
      "outputs": []
    },
    {
      "cell_type": "code",
      "source": [
        "env.state"
      ],
      "metadata": {
        "colab": {
          "base_uri": "https://localhost:8080/",
          "height": 0
        },
        "id": "hH0RL8n_tqdy",
        "outputId": "960abdf8-28ac-4ebf-c8d8-55f2639865c8"
      },
      "execution_count": 22,
      "outputs": [
        {
          "output_type": "execute_result",
          "data": {
            "text/plain": [
              "(0, 0)"
            ]
          },
          "metadata": {},
          "execution_count": 22
        }
      ]
    },
    {
      "cell_type": "code",
      "source": [
        "class DPAgent:\n",
        "  def __init__(self, env):\n",
        "    self.env = env\n",
        "    self.gamma = 1\n",
        "\n",
        "    self.v = dict(zip(self.env.observation_space, np.zeros(self.env.N*self.env.M)))\n",
        "    self.is_trained = False\n",
        "\n",
        "\n",
        "  def policy(self):\n",
        "    if not self.is_trained:\n",
        "      action = random.choices(self.env.action_space)[0]\n",
        "    else:\n",
        "      s = self.env.state\n",
        "      max = -np.inf\n",
        "      for a in self.env.action_space:\n",
        "        term = 0\n",
        "        for s_prime in self.env.observation_space:\n",
        "          term+= self.env.get_transition_probaility(s, a, s_prime) * (self.env.get_reward(s, a, s_prime) + self.gamma * self.v[s_prime])\n",
        "        if term > max:\n",
        "          max = term\n",
        "          action = a\n",
        "\n",
        "    return action\n",
        "\n",
        "  def train(self, iter_limit = 1000):\n",
        "\n",
        "    print(\"performing training...\")\n",
        "\n",
        "    self.v = dict(zip(self.env.observation_space, np.zeros(self.env.N*self.env.M)))\n",
        "\n",
        "    iter = 0\n",
        "    while iter< iter_limit:\n",
        "      for s in self.env.observation_space:\n",
        "        max = -np.inf\n",
        "        for a in self.env.action_space:\n",
        "          term2 = 0\n",
        "          for s_prime in self.env.observation_space:\n",
        "            term2+= self.env.get_transition_probaility(s, a, s_prime) * (self.env.get_reward(s, a, s_prime) + self.gamma*self.v[s_prime])\n",
        "          if term2 > max:\n",
        "            max = term2\n",
        "        self.v[s] = max\n",
        "      iter+=1\n",
        "\n",
        "    self.is_trained = True\n",
        "\n",
        "    print(np.array(list(self.v.values())).reshape(self.env.N, self.env.M))"
      ],
      "metadata": {
        "id": "FBoOl5375EQw"
      },
      "execution_count": 23,
      "outputs": []
    },
    {
      "cell_type": "markdown",
      "source": [
        "Optimal state values through value iteration"
      ],
      "metadata": {
        "id": "mQWT2dbuNjcI"
      }
    },
    {
      "cell_type": "code",
      "source": [
        "env = GridWorldEnv(7,9)\n",
        "dp_agent = DPAgent(env)\n",
        "\n",
        "dp_agent.train(iter_limit = 100)\n",
        "\n",
        "env.reset()\n",
        "\n",
        "while not env.is_terminated:\n",
        "  current_state = env.state\n",
        "  action =  dp_agent.policy()\n",
        "  next_state, reward, is_terminated = env.step(action)\n",
        "  # print(current_state, action, reward, next_state)"
      ],
      "metadata": {
        "colab": {
          "base_uri": "https://localhost:8080/",
          "height": 0
        },
        "id": "57nmrOzSLdnp",
        "outputId": "54910328-df55-431e-8f26-245ea3ff3517"
      },
      "execution_count": 24,
      "outputs": [
        {
          "output_type": "stream",
          "name": "stdout",
          "text": [
            "performing training...\n",
            "[[ 8.  9. 10.  9.  8.  7.  6.  5.  4.]\n",
            " [ 9. 10.  0. 10.  9.  8.  7.  6.  5.]\n",
            " [ 8.  9. 10.  9.  0.  7.  6.  5.  4.]\n",
            " [ 7.  8.  9.  8.  5.  6.  5.  4.  3.]\n",
            " [ 6.  7.  8.  7.  6.  5.  4.  3.  2.]\n",
            " [ 5.  6.  7.  6.  5.  4.  3.  2.  1.]\n",
            " [ 4.  5.  6.  5.  4.  3.  2.  1.  0.]]\n"
          ]
        }
      ]
    },
    {
      "cell_type": "markdown",
      "source": [
        "What are the average total rewards that the agent gets with training?\n"
      ],
      "metadata": {
        "id": "LaqEClGMNtqr"
      }
    },
    {
      "cell_type": "code",
      "source": [
        "rewards = []\n",
        "for i in range(10):\n",
        "  env.reset()\n",
        "  agent = RandomActionAgent(env)\n",
        "  while not env.is_terminated:\n",
        "    current_state = env.state\n",
        "    action = dp_agent.policy()\n",
        "    next_state, reward, is_terminated = env.step(action)\n",
        "  rewards.append(env.total_reward)\n",
        "\n",
        "print(\"Average total reward:\", np.mean(rewards))"
      ],
      "metadata": {
        "colab": {
          "base_uri": "https://localhost:8080/",
          "height": 0
        },
        "id": "p0iVJlkZQJJL",
        "outputId": "af60e34f-22ad-4f96-ace5-200c71acb359"
      },
      "execution_count": 25,
      "outputs": [
        {
          "output_type": "stream",
          "name": "stdout",
          "text": [
            "Average total reward: 8.0\n"
          ]
        }
      ]
    },
    {
      "cell_type": "markdown",
      "source": [
        "What are the average total rewards that the agent gets without training?"
      ],
      "metadata": {
        "id": "0J-e9hvNN8Q3"
      }
    },
    {
      "cell_type": "code",
      "source": [
        "env2 = GridWorldEnv(7,9)\n",
        "dp_agent = DPAgent(env2)\n",
        "while not env2.is_terminated:\n",
        " current_state = env2.state\n",
        " action = dp_agent.policy()\n",
        " next_state, reward, is_terminated = env2.step(action)\n",
        " # print(current_state, action, reward, next_state)\n",
        "env2.total_reward"
      ],
      "metadata": {
        "colab": {
          "base_uri": "https://localhost:8080/",
          "height": 0
        },
        "id": "pFBJGoHnOFqK",
        "outputId": "77dff843-de02-4a49-fba7-1a42e0a61ec8"
      },
      "execution_count": 54,
      "outputs": [
        {
          "output_type": "execute_result",
          "data": {
            "text/plain": [
              "-6"
            ]
          },
          "metadata": {},
          "execution_count": 54
        }
      ]
    },
    {
      "cell_type": "markdown",
      "source": [
        "ran above multiple times - got values like -8, 7, 2, -6 . so average would be -1.25"
      ],
      "metadata": {
        "id": "Rc4fTeduUVDu"
      }
    },
    {
      "cell_type": "markdown",
      "source": [
        "Create a heatmap of optimal state values"
      ],
      "metadata": {
        "id": "PTsuYtlKC3t5"
      }
    },
    {
      "cell_type": "code",
      "source": [
        "v = np.array(list(dp_agent.v.values())).reshape(env.N, env.M)\n",
        "plt.imshow(v, cmap='hot')\n",
        "plt.colorbar()\n",
        "plt.show()"
      ],
      "metadata": {
        "colab": {
          "base_uri": "https://localhost:8080/",
          "height": 420
        },
        "id": "ynRjXchDMIoU",
        "outputId": "16b1a2e1-e97c-4078-dad4-c8134aed48ff"
      },
      "execution_count": null,
      "outputs": [
        {
          "output_type": "display_data",
          "data": {
            "text/plain": [
              "<Figure size 640x480 with 2 Axes>"
            ],
            "image/png": "[encoded data removed]"
          },
          "metadata": {}
        }
      ]
    }
  ]
}